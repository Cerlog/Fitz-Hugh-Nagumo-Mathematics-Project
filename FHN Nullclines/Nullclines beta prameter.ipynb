{
 "cells": [
  {
   "cell_type": "code",
   "execution_count": null,
   "metadata": {
    "collapsed": true
   },
   "outputs": [],
   "source": [
    "import matplotlib.pyplot as plt\n",
    "import numpy as np\n",
    "from scipy.integrate import odeint\n",
    "%matplotlib inline\n",
    "\n",
    "\"\"\"Scaling constants k1\"\"\"\n",
    "k1 = 125\n",
    "\"\"\"Alpha values\"\"\"\n",
    "a1 = -0.1\n",
    "a2 = 0\n",
    "a3 = 0.5\n",
    "a4\n",
    "\"\"\"Epsilon values\"\"\"\n",
    "e1 = 0.01\n",
    "\"\"\"Beta values\"\"\"\n",
    "b1 = -1\n",
    "b2 = 0.5\n",
    "b3 = 20\n",
    "\n",
    "# setting the range\n",
    "xmin = -1\n",
    "xmax = 1.5\n",
    "ymin = -0.5\n",
    "ymax = 0.5\n",
    "\n",
    "\n",
    "def fhn(x,t):\n",
    "    V1 = x[0]\n",
    "    R1 = x[1]\n",
    "\n",
    "    return [k1*(V1 * (a1 - V1) * (V1 - 1) - R1),\n",
    "            k1*(e1 * (V1 - b1 * R1))]\n",
    "\n",
    "plt.figure(figsize=(10, 10))\n",
    "#Trajectories in forward time.\n",
    "xs=odeint(fhn, [0.5, 0.09], np.linspace(0, 100, 1000)) # integrating\n",
    "\n",
    "plt.xlabel('V')\n",
    "plt.ylabel('R')\n",
    "plt.tick_params(labelsize=15)\n",
    "plt.xlim(xmin, xmax)\n",
    "plt.ylim(ymin, ymax);\n",
    "# Plot the nullclines.\n",
    "x=np.arange(xmin, xmax, 0.01)\n",
    "plt.plot(x, (x*(a3-x)*(x-1)), 'r-')#, label=r'$R=\\dfrac{1}{\\beta}V$')\n",
    "plt.plot(x, (x/b1) , 'b--',label='$b_1$=-1')\n",
    "plt.plot(x, (x/b2) , 'c--',label='$b_1$=0.5')\n",
    "plt.plot(x, (x/b3) , 'g--',label='$b_1$=20')\n",
    "#plt.ylim(-0.1,0.2)\n",
    "plt.legend()\n",
    "#plt.axvline(x=0,c='black')\n",
    "#plt.axhline(y=0,c='black')\n",
    "\n",
    "plt.show()"
   ]
  }
 ],
 "metadata": {
  "kernelspec": {
   "display_name": "Python 3",
   "language": "python",
   "name": "python3"
  },
  "language_info": {
   "codemirror_mode": {
    "name": "ipython",
    "version": 2
   },
   "file_extension": ".py",
   "mimetype": "text/x-python",
   "name": "python",
   "nbconvert_exporter": "python",
   "pygments_lexer": "ipython2",
   "version": "2.7.6"
  }
 },
 "nbformat": 4,
 "nbformat_minor": 0
}