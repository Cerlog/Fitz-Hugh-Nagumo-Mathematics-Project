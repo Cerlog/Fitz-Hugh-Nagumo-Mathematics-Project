{
 "cells": [
  {
   "cell_type": "markdown",
   "metadata": {
    "collapsed": true,
    "pycharm": {
     "name": "#%% md\n"
    }
   },
   "source": [
    "2 coupled Fitz Hugh Nagumo for coupling investigation"
   ]
  },
  {
   "cell_type": "markdown",
   "source": [
    "Initial parameters"
   ],
   "metadata": {
    "collapsed": false,
    "pycharm": {
     "name": "#%% md\n"
    }
   }
  },
  {
   "cell_type": "code",
   "execution_count": null,
   "outputs": [],
   "source": [
    "\"\"\"Scaling constants k1-k3\"\"\"\n",
    "k1 = 125\n",
    "k2 = 90\n",
    "k3 = 0 #45\n",
    "\n",
    "\"\"\"Alpha values\"\"\"\n",
    "a1 = -0.1\n",
    "a2 = -0.1\n",
    "a3 = -0.1\n",
    "\n",
    "\"\"\"Epsilon values\"\"\"\n",
    "e1 = 0.01\n",
    "e2 = 0.01\n",
    "e3 = 0.01\n",
    "\n",
    "\"\"\"Beta values\"\"\"\n",
    "b1 = 2\n",
    "b2 = 2\n",
    "b3 = 2\n",
    "\n",
    "\"\"\"Coupling constants f\"\"\"\n",
    "f1 = 1 #f1  V2->V1\n",
    "f2 = 0.5 #f2  V1->V2\n",
    "f3 = 0\n",
    "\n",
    "\"\"\"Coupling constants g\"\"\"\n",
    "g1 = 0\n",
    "g2 = 0\n",
    "g3 = 0\n",
    "\n",
    "\"\"\"Coupling constants h\"\"\"\n",
    "h1 = 0\n",
    "h2 = 0\n",
    "h3 = 0"
   ],
   "metadata": {
    "collapsed": false,
    "pycharm": {
     "name": "#%%\n"
    }
   }
  },
  {
   "cell_type": "markdown",
   "source": [
    "Solving the 2 coupled FHN"
   ],
   "metadata": {
    "collapsed": false,
    "pycharm": {
     "name": "#%% md\n"
    }
   }
  },
  {
   "cell_type": "code",
   "execution_count": null,
   "outputs": [],
   "source": [
    "from scipy.integrate import odeint\n",
    "import numpy as np\n",
    "from matplotlib import pyplot as plt\n",
    "from matplotlib.legend import Legend\n",
    "\n",
    "\n",
    "def fhn(x, t):\n",
    "    # constants\n",
    "\n",
    "    V1 = x[0]\n",
    "    W1 = x[1]\n",
    "    V2 = x[2]\n",
    "    W2 = x[3]\n",
    "    V3 = x[4]\n",
    "    W3 = x[5]\n",
    "\n",
    "    dV1dt = k1*(V1 * (a1 - V1) * (V1 - 1) - W1) #-d*V1*W1 + f1*(V1 - V2) #+ g1*(V1 - V3)\n",
    "    dW1dt = k1*(e1 * (V1 - b1 * W1))\n",
    "\n",
    "    dV2dt = k2*(V2 * (a2 - V2) * (V2 - 1) - W2 + f2*(V2 - V1) )#+ h1*(V2 - V3))] #\n",
    "    dW2dt = k2*(e2 * (V2 - b2 * W2))\n",
    "\n",
    "    dV3dt = k3*(V3 * (a3 - V3) * (V3 - 1) - W3 + g2*(V3 - V1) + h2*(V3 - V2))\n",
    "    dW3dt = k3*(e3 * (V3 - b3 * W3))\n",
    "    return [dV1dt,dW1dt,dV2dt,dW2dt,dV3dt,dW3dt]\n",
    "\n",
    "\n",
    "x0 = [0.1,0,0.1,0,0.1,0] # initial conditions\n",
    "t = np.linspace(0,5,1000) # time\n",
    "x = odeint(fhn,x0,t)\n",
    "\n",
    "V1 = x[:,0]\n",
    "W1 = x[:,1]\n",
    "V2 = x[:,2]\n",
    "W2 = x[:,3]\n",
    "V3 = x[:,4]\n",
    "W3 = x[:,5]"
   ],
   "metadata": {
    "collapsed": false,
    "pycharm": {
     "name": "#%%\n"
    }
   }
  },
  {
   "cell_type": "markdown",
   "source": [
    "Plotting the 2 coupled FHN"
   ],
   "metadata": {
    "collapsed": false,
    "pycharm": {
     "name": "#%% md\n"
    }
   }
  },
  {
   "cell_type": "code",
   "execution_count": null,
   "outputs": [],
   "source": [
    "Settings for the SA Subplot AV and plotting of the two graphs"
   ],
   "metadata": {
    "collapsed": false,
    "pycharm": {
     "name": "#%%\n"
    }
   }
  },
  {
   "cell_type": "code",
   "execution_count": null,
   "outputs": [],
   "source": [
    "fig, (ax0,ax1) = plt.subplots(2,figsize=(10,10))\n",
    "\n",
    "\n",
    "plt.suptitle('Graphs of the SA, AV')\n",
    "\n",
    "\n",
    "\n",
    "\n",
    "\"\"\"Graph for the SA Subplot \"\"\"\n",
    "\n",
    "ax0.title.set_text('SA')\n",
    "ax0.plot(t,V1, label='V1', color='b')  # V1 label\n",
    "\n",
    "ax0.plot([ ],[ ],' ',label=r'$\\alpha_1$ ={}'.format(a1))   # alpha1\n",
    "ax0.plot([ ],[ ],' ',label=r'$\\beta_1$ ={}'.format(b1))     # beta1\n",
    "ax0.plot([ ],[ ],' ',label=r'$\\epsilon_1$ ={}'.format(e1))     # epsilon1\n",
    "ax0.legend(bbox_to_anchor=(0.85,0.5), loc=\"center left\", borderaxespad=9)\n",
    "\n",
    "\"\"\"Bellow are the couplings constants f1 for the first SA equations - uncomment if not needed\"\"\"\n",
    "\n",
    "ax0.plot([ ],[ ],' ',label=r'$f_1$ ={}'.format(f1))   #coupling constant f1 for V1\n",
    "ax0.plot([ ],[ ],' ',label=r'$f_2$ ={}'.format(f2))   #coupling constant f2 for V1\n",
    "#ax0.plot([ ],[ ],' ',label=r'$f_3$ ={}'.format(f3))   #coupling constant f3 for V1\n",
    "\n",
    "\n",
    "\"\"\"Bellow are the couplings constants h1 for the first SA equations - uncomment if not needed\"\"\"\n",
    "\n",
    "ax0.plot([ ],[ ],' ',label=r'$h_1$ ={}'.format(h1))   #coupling constant h1 for V1\n",
    "#ax0.plot([ ],[ ],' ',label=r'$h_2$ ={}'.format(h2))   #coupling constant h2 for V1\n",
    "#ax0.plot([ ],[ ],' ',label=r'$h_3$ ={}'.format(h3))   #coupling constant h3 for V1\n",
    "\n",
    "\n",
    "\n",
    "\"\"\"Bellow are the couplings constants g1 for the first SA equations - uncomment if not needed\"\"\"\n",
    "\n",
    "ax0.plot([ ],[ ],' ',label=r'$g_1$ ={}'.format(g1))   #coupling constant g1 for V1\n",
    "#ax0.plot([ ],[ ],' ',label=r'$g_2$ ={}'.format(g2))   #coupling constant g2 for V1\n",
    "#ax0.plot([ ],[ ],' ',label=r'$g_3$ ={}'.format(g3))   #coupling constant g3 for V1\n",
    "\n",
    "\n",
    "\n",
    "\n",
    "\n",
    "\n",
    "\"\"\"Graph for the AV Subplot\"\"\"\n",
    "\n",
    "ax1.title.set_text('AV')\n",
    "ax1.plot(t,V2, label='V2', color='r')  # V2 label\n",
    "\n",
    "ax1.plot([ ],[ ],' ',label=r'$\\alpha_2$ ={}'.format(a2))   # alpha2\n",
    "ax1.plot([ ],[ ],' ',label=r'$\\beta_2$ ={}'.format(b2))     # beta2\n",
    "ax1.plot([ ],[ ],' ',label=r'$\\epsilon_2$ ={}'.format(e2))     # epsilon2\n",
    "ax1.legend(bbox_to_anchor=(0.85,0.5), loc=\"center left\", borderaxespad=9)\n",
    "\n",
    "\"\"\"Bellow are the couplings constants f1 for the first AV equations - uncomment if not needed\"\"\"\n",
    "\n",
    "ax1.plot([ ],[ ],' ',label=r'$f_1$ ={}'.format(f1))   #coupling constant f1 for V2\n",
    "#ax1.plot([ ],[ ],' ',label=r'$f_2$ ={}'.format(f2))   #coupling constant f2 for V2\n",
    "#ax1.plot([ ],[ ],' ',label=r'$f_3$ ={}'.format(f3))   #coupling constant f3 for V2\n",
    "\n",
    "\n",
    "\"\"\"Bellow are the couplings constants h1 for the first AV equations - uncomment if not needed\"\"\"\n",
    "\n",
    "ax1.plot([ ],[ ],' ',label=r'$h_1$ ={}'.format(h1))   #coupling constant h1 for V2\n",
    "#ax1.plot([ ],[ ],' ',label=r'$h_2$ ={}'.format(h2))   #coupling constant h2 for V2\n",
    "#ax1.plot([ ],[ ],' ',label=r'$h_3$ ={}'.format(h3))   #coupling constant h3 for V2\n",
    "\n",
    "\n",
    "\n",
    "\"\"\"Bellow are the couplings constants g1 for the first AV equations - uncomment if not needed\"\"\"\n",
    "\n",
    "ax1.plot([ ],[ ],' ',label=r'$g_1$ ={}'.format(g1))   #coupling constant g1 for V2\n",
    "#ax1.plot([ ],[ ],' ',label=r'$g_2$ ={}'.format(g2))   #coupling constant g2 for V2\n",
    "#ax1.plot([ ],[ ],' ',label=r'$g_3$ ={}'.format(g3))   #coupling constant g3 for V2\n",
    "\n",
    "\n",
    "\n",
    "\"\"\"Plotting matter\"\"\"\n",
    "plt.legend()\n",
    "ax0.legend(bbox_to_anchor=(0.85,0.5), loc=\"center left\", borderaxespad=9.5)\n",
    "ax1.legend(bbox_to_anchor=(0.85,0.5), loc=\"center left\", borderaxespad=9.5)\n",
    "ax0.grid()\n",
    "ax1.grid()\n",
    "ax0.set_yticks([-1, -0.5, 0, 0.5, 1, 1.5])\n",
    "ax1.set_yticks([-1, -0.5, 0, 0.5, 1, 1.5])\n",
    "fig.supylabel('Voltage (mV)')\n",
    "fig.supxlabel('Time (s)')\n",
    "fig.savefig('SAAVHPCOMPLEX.jpeg', bbox_inches=\"tight\")\n",
    "plt.show()"
   ],
   "metadata": {
    "collapsed": false,
    "pycharm": {
     "name": "#%%\n"
    }
   }
  },
  {
   "cell_type": "markdown",
   "source": [
    "Linear combination of the two coupled FHN"
   ],
   "metadata": {
    "collapsed": false,
    "pycharm": {
     "name": "#%% md\n"
    }
   }
  },
  {
   "cell_type": "code",
   "execution_count": 1,
   "outputs": [
    {
     "ename": "NameError",
     "evalue": "name 'V1' is not defined",
     "output_type": "error",
     "traceback": [
      "\u001B[1;31m---------------------------------------------------------------------------\u001B[0m",
      "\u001B[1;31mNameError\u001B[0m                                 Traceback (most recent call last)",
      "Input \u001B[1;32mIn [1]\u001B[0m, in \u001B[0;36m<module>\u001B[1;34m\u001B[0m\n\u001B[0;32m      1\u001B[0m q \u001B[38;5;241m=\u001B[39m \u001B[38;5;241m1\u001B[39m\n\u001B[0;32m      2\u001B[0m w \u001B[38;5;241m=\u001B[39m \u001B[38;5;241m1\u001B[39m\n\u001B[1;32m----> 4\u001B[0m x \u001B[38;5;241m=\u001B[39m q\u001B[38;5;241m*\u001B[39m\u001B[43mV1\u001B[49m\u001B[38;5;241m+\u001B[39mw\u001B[38;5;241m*\u001B[39mV2\n\u001B[0;32m      6\u001B[0m plt\u001B[38;5;241m.\u001B[39mplot(t, x)\n\u001B[0;32m      7\u001B[0m plt\u001B[38;5;241m.\u001B[39mshow()\n",
      "\u001B[1;31mNameError\u001B[0m: name 'V1' is not defined"
     ]
    }
   ],
   "source": [
    "q = 1\n",
    "w = 1\n",
    "\n",
    "x = q*V1+w*V2\n",
    "\n",
    "plt.plot(t, x)\n",
    "plt.show()"
   ],
   "metadata": {
    "collapsed": false,
    "pycharm": {
     "name": "#%%\n"
    }
   }
  },
  {
   "cell_type": "code",
   "execution_count": null,
   "outputs": [],
   "source": [],
   "metadata": {
    "collapsed": false,
    "pycharm": {
     "name": "#%%\n"
    }
   }
  }
 ],
 "metadata": {
  "kernelspec": {
   "display_name": "Python 3",
   "language": "python",
   "name": "python3"
  },
  "language_info": {
   "codemirror_mode": {
    "name": "ipython",
    "version": 2
   },
   "file_extension": ".py",
   "mimetype": "text/x-python",
   "name": "python",
   "nbconvert_exporter": "python",
   "pygments_lexer": "ipython2",
   "version": "2.7.6"
  }
 },
 "nbformat": 4,
 "nbformat_minor": 0
}