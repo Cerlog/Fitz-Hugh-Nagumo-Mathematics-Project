{
 "cells": [
  {
   "cell_type": "code",
   "execution_count": 439,
   "outputs": [],
   "source": [
    "import numpy as np\n",
    "import matplotlib.pyplot as plt\n",
    "import cmath\n",
    "\n",
    "#alpha=1\n",
    "beta=2\n",
    "epsilon = 0.01\n",
    "\n",
    "a = -1\n",
    "b = 1+alpha\n",
    "c = -(alpha+(1/beta))\n",
    "\n",
    "# calculate the discriminant\n",
    "d = (b**2) - (4*a*c)\n",
    "\n",
    "\n",
    "def quadratic1(list):\n",
    "    result1 = []\n",
    "    for alpha in list:\n",
    "        a = -1\n",
    "        b = 1+alpha\n",
    "        c = -(alpha+(1/beta))\n",
    "\n",
    "        # calculate the discriminant\n",
    "        d = (b**2) - (4*a*c)\n",
    "        result1.append((-b-cmath.sqrt(d))/(2*a))\n",
    "    return result1\n",
    "\n",
    "def quadratic2(list):\n",
    "    result2 = []\n",
    "    for alpha in list:\n",
    "        a = -1\n",
    "        b = 1+alpha\n",
    "        c = -(alpha+(1/beta))\n",
    "\n",
    "        # calculate the discriminant\n",
    "        d = (b**2) - (4*a*c)\n",
    "        result2.append((-b+cmath.sqrt(d))/(2*a))\n",
    "    return result2\n",
    "\n",
    "list = np.linspace(-2.1,2, num=1000)\n",
    "list3 = np.zeros(1000)\n",
    "\n",
    "x1 = list\n",
    "x2 = list\n",
    "x3 = list3\n",
    "\n",
    "y1 = quadratic1(x1)\n",
    "y2 = quadratic2(x1)\n",
    "y3 = quadratic1(x3)"
   ],
   "metadata": {
    "collapsed": false,
    "pycharm": {
     "name": "#%%\n"
    }
   }
  },
  {
   "cell_type": "code",
   "execution_count": 439,
   "outputs": [],
   "source": [],
   "metadata": {
    "collapsed": false,
    "pycharm": {
     "name": "#%%\n"
    }
   }
  },
  {
   "cell_type": "code",
   "execution_count": 438,
   "outputs": [
    {
     "data": {
      "text/plain": "[<matplotlib.lines.Line2D at 0x2c96ad00eb0>]"
     },
     "execution_count": 438,
     "metadata": {},
     "output_type": "execute_result"
    },
    {
     "data": {
      "text/plain": "<Figure size 432x288 with 1 Axes>",
      "image/png": "[encoded data removed]"
     },
     "metadata": {
      "needs_background": "light"
     },
     "output_type": "display_data"
    }
   ],
   "source": [
    "plt.plot(x1,np.real(y1))\n",
    "#plt.plot(x1,np.imag(y1)) # imaginary solutions\n",
    "plt.plot(x2,np.real(y2))\n",
    "#plt.plot(x1,np.imag(y2)) # imaginary solutions\n",
    "plt.plot(x1,x3)\n"
   ],
   "metadata": {
    "collapsed": false,
    "pycharm": {
     "name": "#%%\n"
    }
   }
  },
  {
   "cell_type": "code",
   "execution_count": null,
   "outputs": [],
   "source": [],
   "metadata": {
    "collapsed": false,
    "pycharm": {
     "name": "#%%\n"
    }
   }
  }
 ],
 "metadata": {
  "kernelspec": {
   "display_name": "Python 3 (ipykernel)",
   "language": "python",
   "name": "python3"
  },
  "language_info": {
   "codemirror_mode": {
    "name": "ipython",
    "version": 3
   },
   "file_extension": ".py",
   "mimetype": "text/x-python",
   "name": "python",
   "nbconvert_exporter": "python",
   "pygments_lexer": "ipython3",
   "version": "3.9.7"
  }
 },
 "nbformat": 4,
 "nbformat_minor": 5
}