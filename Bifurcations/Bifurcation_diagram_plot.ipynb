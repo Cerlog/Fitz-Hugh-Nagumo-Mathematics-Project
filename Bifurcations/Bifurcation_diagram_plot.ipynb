{
 "cells": [
  {
   "cell_type": "code",
   "execution_count": 390,
   "outputs": [],
   "source": [
    "import numpy as np\n",
    "import matplotlib.pyplot as plt\n",
    "import cmath\n",
    "import math\n",
    "\n"
   ],
   "metadata": {
    "collapsed": false,
    "pycharm": {
     "name": "#%%\n"
    }
   }
  },
  {
   "cell_type": "code",
   "execution_count": 391,
   "outputs": [],
   "source": [
    "beta = 2"
   ],
   "metadata": {
    "collapsed": false,
    "pycharm": {
     "name": "#%%\n"
    }
   }
  },
  {
   "cell_type": "code",
   "execution_count": 392,
   "outputs": [],
   "source": [
    "list = np.linspace(-5, 5 , num=200)\n",
    "def quadratic1(list):\n",
    "    result2 = []\n",
    "\n",
    "    for alpha in list:\n",
    "        a = -1\n",
    "        b = 1+alpha\n",
    "        c = -(alpha+(1/beta))\n",
    "        d = (b**2) - (4*a*c)\n",
    "        result = ((-b-cmath.sqrt(d))/(2*a))\n",
    "        if result.imag:\n",
    "            result2.append(0)\n",
    "        else:\n",
    "            result2.append(result)\n",
    "    return result2"
   ],
   "metadata": {
    "collapsed": false,
    "pycharm": {
     "name": "#%%\n"
    }
   }
  },
  {
   "cell_type": "code",
   "execution_count": 393,
   "outputs": [],
   "source": [
    "x = quadratic1(list)\n",
    "y = list"
   ],
   "metadata": {
    "collapsed": false,
    "pycharm": {
     "name": "#%%\n"
    }
   }
  },
  {
   "cell_type": "code",
   "execution_count": 394,
   "outputs": [],
   "source": [
    "list2 = np.linspace(-5, 5 , num=200)\n",
    "def quadratic1(list):\n",
    "    result2 = []\n",
    "\n",
    "    for alpha in list:\n",
    "        a = -1\n",
    "        b = 1+alpha\n",
    "        c = -(alpha+(1/beta))\n",
    "        d = (b**2) - (4*a*c)\n",
    "        result = ((-b+cmath.sqrt(d))/(2*a))\n",
    "        if result.imag:\n",
    "            result2.append(0)\n",
    "        else:\n",
    "            result2.append(result)\n",
    "    return result2"
   ],
   "metadata": {
    "collapsed": false,
    "pycharm": {
     "name": "#%%\n"
    }
   }
  },
  {
   "cell_type": "code",
   "execution_count": 395,
   "outputs": [],
   "source": [
    "x2 = quadratic1(list2)\n",
    "y2 = list2\n",
    "x3 = np.zeros(100)"
   ],
   "metadata": {
    "collapsed": false,
    "pycharm": {
     "name": "#%%\n"
    }
   }
  },
  {
   "cell_type": "code",
   "execution_count": 396,
   "outputs": [
    {
     "data": {
      "text/plain": "[<matplotlib.lines.Line2D at 0x1c14047e3b0>]"
     },
     "execution_count": 396,
     "metadata": {},
     "output_type": "execute_result"
    },
    {
     "data": {
      "text/plain": "<Figure size 432x288 with 1 Axes>",
      "image/png": "[encoded data removed]"
     },
     "metadata": {
      "needs_background": "light"
     },
     "output_type": "display_data"
    }
   ],
   "source": [
    "plt.title(\"Bifurcation diagram\")\n",
    "plt.plot(y,np.real(x))\n",
    "plt.plot(y,np.imag(x))\n",
    "plt.plot(y2,np.imag(x2))\n",
    "plt.plot(y2,np.real(x2))\n",
    "#plt.plot(y2,x3)\n",
    "\n",
    "#plt.plot(x1,np.imag(y1))\n",
    "#plt.plot(x1,np.real(y1))\n",
    "#plt.plot(x2,np.imag(y2))\n",
    "#plt.plot(x2,np.imag(y2))\n",
    "#plt.plot(x3, y13)\n",
    "#plt.plot(x2,y3)\n",
    "#plt.xlabel(\"\\u03B1\")\n",
    "#plt.ylabel(\"R\")\n",
    "#plt.scatter(x1,y11,s=15)\n",
    "#plt.scatter(x2,y12,s=15)\n",
    "#plt.scatter(x3,y13,s=15)"
   ],
   "metadata": {
    "collapsed": false,
    "pycharm": {
     "name": "#%%\n"
    }
   }
  },
  {
   "cell_type": "code",
   "execution_count": 396,
   "outputs": [],
   "source": [],
   "metadata": {
    "collapsed": false,
    "pycharm": {
     "name": "#%%\n"
    }
   }
  },
  {
   "cell_type": "code",
   "execution_count": null,
   "outputs": [],
   "source": [],
   "metadata": {
    "collapsed": false,
    "pycharm": {
     "name": "#%%\n"
    }
   }
  }
 ],
 "metadata": {
  "kernelspec": {
   "display_name": "Python 3 (ipykernel)",
   "language": "python",
   "name": "python3"
  },
  "language_info": {
   "codemirror_mode": {
    "name": "ipython",
    "version": 3
   },
   "file_extension": ".py",
   "mimetype": "text/x-python",
   "name": "python",
   "nbconvert_exporter": "python",
   "pygments_lexer": "ipython3",
   "version": "3.9.7"
  }
 },
 "nbformat": 4,
 "nbformat_minor": 5
}