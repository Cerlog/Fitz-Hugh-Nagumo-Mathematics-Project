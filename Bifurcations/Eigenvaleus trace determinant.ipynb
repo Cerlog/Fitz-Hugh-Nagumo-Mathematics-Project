{
 "cells": [
  {
   "cell_type": "code",
   "execution_count": 13,
   "outputs": [],
   "source": [
    "import math\n",
    "\n",
    "def eigenvalues(v, alpha, beta, epsilon):\n",
    "\n",
    "    #Using trace and the determinant to calculate the eigenvalue\n",
    "    T = (2*v*(alpha+1) - alpha - 3*v**2) - (epsilon * beta)\n",
    "    D = (2*v*(alpha+1) - alpha - 3*v**2)*(-beta*epsilon)-(-1)*epsilon\n",
    "    T_sq_minus_D = T**2 - 4*D\n",
    "    sqrt_T_sq_minus_D = math.sqrt(T ** 2 - 4 * D)\n",
    "\n",
    "\n",
    "    if T_sq_minus_D > 0:\n",
    "        print(\"Eigenvalues are Real and Different \")\n",
    "        print((T + sqrt_T_sq_minus_D) / (2))\n",
    "        print((T - sqrt_T_sq_minus_D) / (2))\n",
    "        print(f'{\"Trace is\"} {T}')\n",
    "        print(f'{\"Determinant is\"} {D}')\n",
    "\n",
    "    elif T_sq_minus_D == 0:\n",
    "        print(\"Eigenvalues are real and repeated\")\n",
    "        print(T / (2))\n",
    "        print(f'{\"Trace is\"} {T}')\n",
    "        print(f'{\"Determinant is\"} {D}')\n",
    "\n",
    "\n",
    "    else:\n",
    "        print(\"Complex eigenvalues\")\n",
    "        print(T/ (2), \" + i\", sqrt_T_sq_minus_D)\n",
    "        print(T/ (2), \" - i\", sqrt_T_sq_minus_D)\n",
    "        print(f'{\"Trace is\"} {T}')\n",
    "        print(f'{\"Determinant is\"} {D}')\n",
    "\n",
    "\n",
    "#eigenvalues(v here!, alpha here!, beta here!, epsilon here!) call the function and state parameters!\n",
    "\n",
    "eigenvalues(0, -0.5, 2, 0.01)\n",
    "\n"
   ],
   "metadata": {
    "collapsed": false,
    "pycharm": {
     "name": "#%%\n"
    }
   }
  },
  {
   "cell_type": "code",
   "execution_count": 12,
   "outputs": [],
   "source": [],
   "metadata": {
    "collapsed": false,
    "pycharm": {
     "name": "#%%\n"
    }
   }
  },
  {
   "cell_type": "code",
   "execution_count": null,
   "outputs": [],
   "source": [],
   "metadata": {
    "collapsed": false,
    "pycharm": {
     "name": "#%%\n"
    }
   }
  }
 ],
 "metadata": {
  "kernelspec": {
   "display_name": "Python 3",
   "language": "python",
   "name": "python3"
  },
  "language_info": {
   "codemirror_mode": {
    "name": "ipython",
    "version": 2
   },
   "file_extension": ".py",
   "mimetype": "text/x-python",
   "name": "python",
   "nbconvert_exporter": "python",
   "pygments_lexer": "ipython2",
   "version": "2.7.6"
  }
 },
 "nbformat": 4,
 "nbformat_minor": 0
}